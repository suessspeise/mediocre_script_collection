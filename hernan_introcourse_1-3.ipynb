{
 "cells": [
  {
   "cell_type": "markdown",
   "id": "4ab324d6-1ad1-492d-be34-59d07eb01a6a",
   "metadata": {},
   "source": [
    "## 1.3 Prerequisites\n",
    "Every participant to the course is expected to come with a Jupyter notebook, or similar, which computes the temporal evolution of a quantity T described by the ordinary differential equation:\n",
    "$$ ̇\\dot{T} = − λ T $$\n",
    "where the Leibnitz dot notation denotes differentiation with respect to time, and $λ = 1 × 10^{−6}s^{−1}$ is held constant. Ideally a numerical solution formed by time-stepping the evolution of T should be compared to the analytic solution (exponential decay), and a solution using an ODE solver, given the initial condition, $T(0) = 1$."
   ]
  },
  {
   "cell_type": "code",
   "execution_count": 9,
   "id": "c2bfef77-41f0-44ed-9139-dd07b0d80ddb",
   "metadata": {},
   "outputs": [],
   "source": [
    "import numpy as np\n",
    "import sympy as sym\n",
    "\n",
    "t = sym.Symbol('t')\n",
    "l = sym.Symbol('lamda')\n",
    "T = sym.Function('T')(t)\n",
    "ics = {T.subs(t,0):1}\n",
    "l_v  = sym.Eq(l, 1e-6) # this does not work? how do i specify units?\n",
    "ode = sym.Eq(T.diff(t), -l*T)\n",
    "ics      = {T.subs(t,0):1}\n",
    "settings = {l:1e-6}\n",
    "T  = sym.dsolve(ode, ics=ics)\n",
    "if not T.subs(t,0).rhs == 1: print('ics not confirmed')\n",
    "\n",
    "def func_ode(x,lam=1e-6):\n",
    "    global T\n",
    "    # t, l = sym.symbols('t lambda')\n",
    "    # l = sym.Symbol('lamda')\n",
    "    return float(T.subs({l:lam}).subs({t:x}).rhs)\n",
    "\n",
    "def func_ana(x,lam=1e-6):\n",
    "    return  np.e ** (-lam * x) \n",
    "    \n",
    "def func_num(x,lam=1e-6, initcon = (0,1.0), stepsize=1):\n",
    "    direction = 1 if x >= initcon[0] else -1 # moving forward or backward\n",
    "    value = initcon[1]\n",
    "    for i in range(initcon[0],x, direction * stepsize):\n",
    "        value = value + value * (-lam) * direction\n",
    "    return value\n",
    "\n"
   ]
  },
  {
   "cell_type": "code",
   "execution_count": 10,
   "id": "3d40e417-8656-425e-afa6-aee27848bffb",
   "metadata": {},
   "outputs": [
    {
     "name": "stdout",
     "output_type": "stream",
     "text": [
      "-1000 1.0010005001667084 1.0010005001667084 1.0010004996662079\n",
      "-900 1.0009004051215273 1.0009004051215273 1.0009004046711227\n",
      "-800 1.0008003200853504 1.0008003200853504 1.000800319685031\n",
      "-700 1.0007002450571767 1.0007002450571767 1.0007002447069329\n",
      "-600 1.0006001800360054 1.0006001800360054 1.0006001797358268\n",
      "-500 1.0005001250208359 1.0005001250208359 1.000500124770711\n",
      "-400 1.0004000800106678 1.0004000800106678 1.0004000798105872\n",
      "-300 1.0003000450045003 1.0003000450045003 1.0003000448544548\n",
      "-200 1.0002000200013335 1.0002000200013335 1.0002000199013132\n",
      "-100 1.0001000050001667 1.0001000050001667 1.0001000049501616\n",
      "0 1.0 1.0 1.0\n",
      "100 0.9999000049998333 0.9999000049998333 0.9999000049498383\n",
      "200 0.9998000199986667 0.9998000199986667 0.9998000198986868\n",
      "300 0.9997000449955004 0.9997000449955004 0.9997000448455456\n",
      "400 0.9996000799893344 0.9996000799893344 0.999600079789415\n",
      "500 0.9995001249791693 0.9995001249791693 0.9995001247292946\n",
      "600 0.9994001799640054 0.9994001799640054 0.9994001796641859\n",
      "700 0.9993002449428433 0.9993002449428433 0.999300244593089\n",
      "800 0.9992003199146837 0.9992003199146837 0.9992003195150045\n",
      "900 0.9991004048785274 0.9991004048785274 0.9991004044289333\n"
     ]
    }
   ],
   "source": [
    "for i in range(-1000,1000,100):\n",
    "    print(i, func_ode(i), func_ana(i), func_num(i))"
   ]
  },
  {
   "cell_type": "code",
   "execution_count": 11,
   "id": "87b872ca-6b71-47aa-93b1-e95a7976f71c",
   "metadata": {},
   "outputs": [
    {
     "data": {
      "image/png": "[encoded data removed]",
      "text/plain": [
       "<Figure size 432x288 with 1 Axes>"
      ]
     },
     "metadata": {
      "needs_background": "light"
     },
     "output_type": "display_data"
    }
   ],
   "source": [
    "import matplotlib.pyplot as plt\n",
    "\n",
    "x,ana,num,ode = [],[],[],[]\n",
    "n=10000\n",
    "for i in range(0,n,int(n/1000)):\n",
    "    x.append(i)\n",
    "    ana.append(func_ana(i))\n",
    "    num.append(func_num(i))\n",
    "    ode.append(func_ode(i))\n",
    "    \n",
    "fig, ax = plt.subplots()\n",
    "ax.plot(x,ana, label='ana')\n",
    "ax.plot(x,num, label='num')\n",
    "ax.plot(x,ode, label='ode')\n",
    "ax.legend()\n",
    "ax.set_xscale('log', base=10)"
   ]
  },
  {
   "cell_type": "code",
   "execution_count": null,
   "id": "fbb7c576-79a1-4859-9ad4-9604cd4f9805",
   "metadata": {},
   "outputs": [],
   "source": []
  }
 ],
 "metadata": {
  "kernelspec": {
   "display_name": "Python 3 (ipykernel)",
   "language": "python",
   "name": "python3"
  },
  "language_info": {
   "codemirror_mode": {
    "name": "ipython",
    "version": 3
   },
   "file_extension": ".py",
   "mimetype": "text/x-python",
   "name": "python",
   "nbconvert_exporter": "python",
   "pygments_lexer": "ipython3",
   "version": "3.9.12"
  }
 },
 "nbformat": 4,
 "nbformat_minor": 5
}
